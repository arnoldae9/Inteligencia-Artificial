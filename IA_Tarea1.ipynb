{
  "nbformat": 4,
  "nbformat_minor": 0,
  "metadata": {
    "colab": {
      "name": "IA_Tarea1.ipynb",
      "provenance": [],
      "collapsed_sections": [],
      "include_colab_link": true
    },
    "kernelspec": {
      "name": "python3",
      "display_name": "Python 3"
    },
    "language_info": {
      "name": "python"
    }
  },
  "cells": [
    {
      "cell_type": "markdown",
      "metadata": {
        "id": "view-in-github",
        "colab_type": "text"
      },
      "source": [
        "<a href=\"https://colab.research.google.com/github/arnoldae9/Inteligencia-Artificial/blob/main/IA_Tarea1.ipynb\" target=\"_parent\"><img src=\"https://colab.research.google.com/assets/colab-badge.svg\" alt=\"Open In Colab\"/></a>"
      ]
    },
    {
      "cell_type": "markdown",
      "source": [
        "**Impresión**\n",
        "\n",
        "1.Despliega un “Hola, mundo”"
      ],
      "metadata": {
        "id": "4_titFvkfdSK"
      }
    },
    {
      "cell_type": "code",
      "execution_count": null,
      "metadata": {
        "colab": {
          "base_uri": "https://localhost:8080/"
        },
        "id": "DMgtJVEofKnM",
        "outputId": "2b8ab3fb-0e94-4f57-f11d-8c897cda7cb2"
      },
      "outputs": [
        {
          "output_type": "stream",
          "name": "stdout",
          "text": [
            "Hola Mundo\n"
          ]
        }
      ],
      "source": [
        "print(\"Hola Mundo\")"
      ]
    },
    {
      "cell_type": "markdown",
      "source": [
        "**Funciones**\n",
        "\n",
        "1.Genera una función que, al ser invocada, despliegue el texto “Hola, mundo”.\n",
        "\n",
        "2.Genera una función que reciba una cadena de texto e imprima “Hola,”<cadena de texto>. Invoca esta función con los valores “Ana”, “Lalo” y “Mario”.\n",
        "\n",
        "3.Genera una función que reciba los valores x1, y1, x2, y2y devuelva la distancia euclidiana entre (x1, y1) y (x2,y2). Puedes apoyarte en la función sqrt de la librería math."
      ],
      "metadata": {
        "id": "u8y8ATNCf-WI"
      }
    },
    {
      "cell_type": "code",
      "source": [
        "# 1\n",
        "\n",
        "\n",
        "def mensaje():\n",
        "  print(\"Hola, mundo\")\n",
        "\n",
        "\n",
        "mensaje()"
      ],
      "metadata": {
        "colab": {
          "base_uri": "https://localhost:8080/"
        },
        "id": "qBeuwRtwgRih",
        "outputId": "972113bc-4fcf-4373-ffb9-d1979ad9f18e"
      },
      "execution_count": null,
      "outputs": [
        {
          "output_type": "stream",
          "name": "stdout",
          "text": [
            "Hola, mundo\n"
          ]
        }
      ]
    },
    {
      "cell_type": "code",
      "source": [
        "#2\n",
        "\n",
        "\n",
        "def mensaje(nombre):\n",
        "  print(f\"Hola, {nombre}\")\n",
        "\n",
        "\n",
        "nombres = [\"Ana\",\"Lalo\",\"Mario\"]\n",
        "\n",
        "for nombre in nombres:\n",
        "  mensaje(nombre)"
      ],
      "metadata": {
        "colab": {
          "base_uri": "https://localhost:8080/"
        },
        "id": "mUqNZ74cgk7r",
        "outputId": "23122d74-868f-4fde-dc07-dd4e68aa0855"
      },
      "execution_count": null,
      "outputs": [
        {
          "output_type": "stream",
          "name": "stdout",
          "text": [
            "Hola, Ana\n",
            "Hola, Lalo\n",
            "Hola, Mario\n"
          ]
        }
      ]
    },
    {
      "cell_type": "code",
      "source": [
        "# 3 \n",
        "\n",
        "import math\n",
        "\n",
        "\n",
        "def distancia(x1,y1,x2,y2):\n",
        "  print(math.sqrt( (x2-x1) **2 + (y2-y1)**2 ) )\n",
        "\n",
        "\n",
        "distancia(0,3,4,0)\n",
        "\n"
      ],
      "metadata": {
        "id": "ZG6nso08hdjr",
        "colab": {
          "base_uri": "https://localhost:8080/"
        },
        "outputId": "70885211-318a-4ab8-dae4-87cb18375750"
      },
      "execution_count": null,
      "outputs": [
        {
          "output_type": "stream",
          "name": "stdout",
          "text": [
            "5.0\n"
          ]
        }
      ]
    },
    {
      "cell_type": "markdown",
      "source": [
        "**Listas**\n",
        " \n",
        "1.   Genera una lista vacía. Nombra esta lista digitos.\n",
        "2.   Con un ciclo for, llena digitoscon los valores 0-9. Despliegael resultado.\n",
        "3.   Despliega el tamaño de la lista.\n",
        "4.   Recorre la lista, súmale 1 a cada elemento y despliega el valor de cada resultado.Utiliza la función range.\n",
        "5.   Despliega el primer valor de la lista.\n",
        "6.   Despliega el último valor de la lista.\n",
        "7.   Despliega los valores 3-5 de la lista.\n",
        "8.   Toma como base la lista colores=[[255, 0, 0], [0, 255, 0], [0 ,0, 255]]\n",
        "  \n",
        "  a. Despliega cada elemento de colores.\n",
        "\n",
        "  b. Despliega el segundo elemento de colores.\n",
        "\n",
        "  c. Aplana la lista."
      ],
      "metadata": {
        "id": "kuQpXAiilw9I"
      }
    },
    {
      "cell_type": "code",
      "source": [
        "# 1.\n",
        "\n",
        "digitos = []\n",
        "\n",
        "# 2.\n",
        "for i in range(10):\n",
        "  digitos.append(i)\n",
        "\n",
        "print(digitos)\n",
        "\n",
        "#3.\n",
        "\n",
        "print(len(digitos))\n",
        "\n",
        "print(\"=========================\")\n",
        "\n",
        "#4.\n",
        "\n",
        "for i in range(len(digitos)):\n",
        "  print(digitos[i] + 1)\n",
        "\n",
        "#5.\n",
        "\n",
        "print(f\"Primer valor de la lista: {digitos[0]}\")\n",
        "\n",
        "#6.\n",
        "\n",
        "print(f\"Ultimo valor de la lista: {digitos[-1]}\")\n",
        "\n",
        "#7.\n",
        "\n",
        "print(digitos[3:6])\n",
        "\n",
        "print(\"=========================\")\n",
        "\n",
        "#8.\n",
        "\n",
        "#a.\n",
        "\n",
        "colores=[[255, 0, 0], [0, 255, 0], [0 ,0, 255]]\n",
        "\n",
        "for color in colores:\n",
        "  print(color)\n",
        "\n",
        "#b.\n",
        "\n",
        "print(colores[1])\n",
        "\n",
        "#c.\n",
        "\n",
        "listaAplanada = []\n",
        "\n",
        "for color in colores:\n",
        "  for index in color:\n",
        "    listaAplanada.append(index)\n",
        "\n",
        "print(listaAplanada)"
      ],
      "metadata": {
        "colab": {
          "base_uri": "https://localhost:8080/"
        },
        "id": "tXCqem9PnFA_",
        "outputId": "3fe1d59b-0636-4546-8059-69c40aa7f996"
      },
      "execution_count": null,
      "outputs": [
        {
          "output_type": "stream",
          "name": "stdout",
          "text": [
            "[0, 1, 2, 3, 4, 5, 6, 7, 8, 9]\n",
            "10\n",
            "=========================\n",
            "1\n",
            "2\n",
            "3\n",
            "4\n",
            "5\n",
            "6\n",
            "7\n",
            "8\n",
            "9\n",
            "10\n",
            "Primer valor de la lista: 0\n",
            "Ultimo valor de la lista: 9\n",
            "[3, 4, 5]\n",
            "=========================\n",
            "[255, 0, 0]\n",
            "[0, 255, 0]\n",
            "[0, 0, 255]\n",
            "[0, 255, 0]\n",
            "[255, 0, 0, 0, 255, 0, 0, 0, 255]\n"
          ]
        }
      ]
    },
    {
      "cell_type": "markdown",
      "source": [
        "**Diccionarios(tablas de hash)**\n",
        "\n",
        "1. Genera  un  diccionario  con  la  información  de  la  Tabla  1. Llama dic_colores a  este diccionario. Considera que los valores son cadenas de texto.\n",
        "\n",
        "![tablaDiccionario.png](data:image/png;base64,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)\n",
        "\n",
        "2. Extrae el valor de la llave “azul” del diccionario que generaste en el ejercicio anterior.\n",
        "3. Genera un ciclo que recorra el diccionario que generaste en el ejercicio anterior y despliegue tanto la llave como el valor asociado a ésta.\n",
        "4. Escribe  una  función llamada busca(llave,  diccionario)que  reciba  una  llave  y devuelva  el  valor  de  dicha  llave  en un  diccionario.  Si  no  se  encuentra  la  llave  en  el diccionario, despliega un mensaje de error. De otra manera, despliega el valor relacionado con la llave.\n",
        "5. Busca la llave “morado”en dic_colores. Utiliza  la  función  generada  en  el  ejercicio anterior."
      ],
      "metadata": {
        "id": "lOdnct-Iqzkq"
      }
    },
    {
      "cell_type": "code",
      "source": [
        "#1.\n",
        "\n",
        "dic_colores = { \n",
        "    'rojo'  : \"#FF0000\",\n",
        "    'verde' : \"#00FF00\",\n",
        "    'azul'  : \"#0000FF\"\n",
        "}\n",
        "\n",
        "#2.\n",
        "\n",
        "print(f\" Contenido de Azul: {dic_colores['azul']}\")\n",
        "\n",
        "#3.\n",
        "\n",
        "for key in dic_colores:\n",
        "  print(f\"Llave: {key}  Valor: {dic_colores[key]}\")\n",
        "\n",
        "#4.\n",
        "\n",
        "def buscar(llave,diccionario):\n",
        "  if llave in diccionario.keys():\n",
        "    print(f\"Valor: {diccionario[llave]}\")\n",
        "  else:\n",
        "    print(\"La llave no existe\")\n",
        "\n",
        "buscar(\"azul\",dic_colores)"
      ],
      "metadata": {
        "colab": {
          "base_uri": "https://localhost:8080/"
        },
        "id": "_9q3Mg_TrjPy",
        "outputId": "3348b71a-f967-4634-ba0a-6937c5ee8596"
      },
      "execution_count": null,
      "outputs": [
        {
          "output_type": "stream",
          "name": "stdout",
          "text": [
            " Contenido de Azul: #0000FF\n",
            "Llave: rojo  Valor: #FF0000\n",
            "Llave: verde  Valor: #00FF00\n",
            "Llave: azul  Valor: #0000FF\n",
            "Valor: #0000FF\n"
          ]
        }
      ]
    },
    {
      "cell_type": "markdown",
      "source": [
        "**Bifurcaciones**\n",
        "\n",
        "1. Genera una función categorizar (num) que reciba un número num de punto flotante y realice lo siguiente:\n",
        "\n",
        "  a. Si 0 ≤ num ≤ 0.3, despliega el mesaje “Leve”\n",
        "\n",
        "  b. Si 0.3 < num ≤0.5, despliega el mensaje “Intermedio”\n",
        "  \n",
        "  c. Si 0.5 < num despliega el mensaje “Severo”\n",
        "  \n",
        "  d. En cualquier otro caso, despliega el mensaje “Error” Utiliza un bloque if-elif-else para este ejercicio."
      ],
      "metadata": {
        "id": "E2GGnsBDhVrd"
      }
    },
    {
      "cell_type": "code",
      "source": [
        "def categorizar (num):\n",
        "  if 0 <= num and num <= 0.3:     #a.\n",
        "    print(f\"Número: {num} Categoría: Leve\")\n",
        "  elif 0.3 < num and num <= 0.5:  #b.\n",
        "    print(f\"Número: {num} Categoría: Intermedio\")\n",
        "  elif num > 0.5:                 #c.\n",
        "    print(f\"Número: {num} Categoría: Severo\")\n",
        "  else:                           #d.\n",
        "    print(f\"Número: {num} Categoría: Error\")  \n",
        "\n",
        "\n",
        "categorizar(0.5)"
      ],
      "metadata": {
        "colab": {
          "base_uri": "https://localhost:8080/"
        },
        "id": "1yn0TWlfiLwa",
        "outputId": "b8a82936-5ed4-4481-9936-653c8404a84b"
      },
      "execution_count": null,
      "outputs": [
        {
          "output_type": "stream",
          "name": "stdout",
          "text": [
            "Número: 0.5 Categoría: Intermedio\n"
          ]
        }
      ]
    },
    {
      "cell_type": "markdown",
      "source": [
        "**Ciclos**\n",
        "\n",
        "1. Genera un ciclo for que imprima los dígitos (0-9).Apóyate con la función range.\n",
        "\n",
        "2. Repite el ejercicio anterior, pero ahora muestra los dígitos en orden inverso.\n",
        "\n",
        "3. Repite el ejercicio 1, pero ahora despliega solamente los dígitos 2-7.\n",
        "\n",
        "4. Repite el ejercicio 1, imprime solamente los dígitos pares (0, 2, 4, etc).Utiliza las opciones de la función range.\n",
        "\n",
        "5. Para los siguientes ejercicios, utiliza la lista lista1=[“hola”, “hello”, “bonjour”, “ko nitchi wa”]\n",
        "\n",
        "  a. Imprime cada elemento de lista1 con un ciclo for que utilice la función len.\n",
        "  \n",
        "  b. Repite el ejercicio anterior, pero esta vez sin utilizar la función len."
      ],
      "metadata": {
        "id": "1BSuXE5Cj3gj"
      }
    },
    {
      "cell_type": "code",
      "source": [
        "#1.\n",
        "\n",
        "for i in range(10):\n",
        "  print(i)\n",
        "\n",
        "#2.\n",
        "\n",
        "for i in range(10):\n",
        "  print(9-i)\n",
        "\n",
        "#3.\n",
        "\n",
        "for i in range(2,8):\n",
        "  print(i)\n",
        "\n",
        "#4.\n",
        "\n",
        "for i in range(10):\n",
        "  if i % 2 == 0:\n",
        "    print(i)\n",
        "\n",
        "#5.\n",
        "#a.\n",
        "lista1 = [\"hola\" , \"hello\", \"bonjour\", \"ko nitchi wa\"]\n",
        "\n",
        "for item in range(len(lista1)):\n",
        "  print(lista1[item])\n",
        "\n",
        "for value in lista1:\n",
        "  print(value)"
      ],
      "metadata": {
        "id": "4wwhAYqDmn2C"
      },
      "execution_count": null,
      "outputs": []
    },
    {
      "cell_type": "markdown",
      "source": [
        "**Cadenas de texto (strings)**\n",
        "1. Considera  las  cadenas  de  texto hola=”Hola”  y mundo=”mundo”.Concatena estas cadenas  y  asigna  el  resultado  a  una  variable  llamada  saludo.  Despliega  el  valor  de  esta variable.\n",
        "2. Toma como base la variable saludo para los siguientes ejercicios.\n",
        "\n",
        "  a. Despliega el primer caracter de esta variable.\n",
        "\n",
        "  b. Despliega el último caracter de esta variable.\n",
        "\n",
        "  c. Despliega solamente los primeros tres caracteres de esta variable.\n",
        "\n",
        "  d. Despliega los últimos tres caracteres de esta variable.\n",
        "\n",
        "  e. Despliega los caracteres 2-4(inclusive) de esta variable.\n",
        "3. Convierte la cadena de  texto “Python is really cool” a una lista, separando la cadenapor espacios. Despliega cada palabra por separado.\n",
        "\n",
        "4. Convierte  la  cadena  de  texto “0,1,1,2,3,5,8” a  una  lista,separando  la  cadenapor  comas. Despliega cada elemento de esta lista."
      ],
      "metadata": {
        "id": "r7ryXV5sDMpm"
      }
    },
    {
      "cell_type": "code",
      "source": [
        "#1.\n",
        "hola = \"hola\"\n",
        "mundo = \"mundo\"\n",
        "\n",
        "saludo = hola + \", \" + mundo\n",
        "\n",
        "print(saludo)\n",
        "\n",
        "#2.\n",
        "#a.\n",
        "print(f\"Primer caracter de saludo: {saludo[0]}\")\n",
        "\n",
        "#2.\n",
        "#b.\n",
        "print(f\"Ultimo caracter de saludo: {saludo[-1]}\")\n",
        "\n",
        "#2.\n",
        "#c.\n",
        "for i in range(3):\n",
        "  print(saludo[i])\n",
        "\n",
        "#2.\n",
        "#d.\n",
        "for i in range(3):\n",
        "  print(saludo[len(saludo)-i-1])\n",
        "\n",
        "#2.\n",
        "#e.\n",
        "corte = \"\"\n",
        "for i in range(2,5):\n",
        "  corte += saludo[i]\n",
        "print(f\"Caracteres 2-4 de saludo: {corte}\")\n",
        "\n",
        "#3.\n",
        "texto = \"Python is really cool\"\n",
        "lista = texto.split()\n",
        "print(lista)\n",
        "\n",
        "#4.\n",
        "texto2 =\"0,1,1,2,3,5,8\"\n",
        "lista2 = texto.split(sep=\",\")\n",
        "print(lista2)"
      ],
      "metadata": {
        "colab": {
          "base_uri": "https://localhost:8080/"
        },
        "id": "nnbC9sYZDSiL",
        "outputId": "89d08403-d7f2-407b-9c21-266053103e90"
      },
      "execution_count": null,
      "outputs": [
        {
          "output_type": "stream",
          "name": "stdout",
          "text": [
            "hola, mundo\n",
            "Primer caracter de saludo: h\n",
            "Ultimo caracter de saludo: o\n",
            "h\n",
            "o\n",
            "l\n",
            "o\n",
            "d\n",
            "n\n",
            "Caracteres 2-4 de saludo: la,\n",
            "['Python', 'is', 'really', 'cool']\n",
            "['Python is really cool']\n"
          ]
        }
      ]
    },
    {
      "cell_type": "markdown",
      "source": [
        "**Archivos**\n",
        "1. Genera un archivo de texto plano (.txt) con la información de la Tabla 2.\n",
        "2. Lee este archivo con el método readlines y despliega cada línea del archivo.\n",
        "3. Despliega la cantidad de líneas del archivo.\n",
        "4. Escribe un archivo con la información de la Tabla 3"
      ],
      "metadata": {
        "id": "jxnRii2LKKXH"
      }
    },
    {
      "cell_type": "code",
      "source": [
        "#2. Nota el número uno es generar el txt en colab :3\n",
        "with open(\"tabla2IA.txt\",\"r\") as file:\n",
        "  lineas = file.readlines()\n",
        "\n",
        "for line in lineas:\n",
        "  print(line)\n",
        "\n",
        "#3.\n",
        "print(f\"Número de líneas en el archivo: {len(lineas)}\")\n",
        "\n",
        "#4.\n",
        "with open(\"tabla3IA.txt\",\"w\") as archivo:\n",
        "  archivo.write(\"Lorem ipsum dolor sit amet, consectetur adipiscing elit. \\nDuis at enim ac est semper lobortis nec quis enim. \\nSed fringilla, magna sed dapibus consequat, elit metus placerat enim, \\nid efficitur lacus risus vel lacus. \\nDuis venenatis auctor tellus, id gravida est iaculis vel. \\nNulla venenatis ante vel tellus hendrerit, id aliquet arcu faucibus.\")\n",
        "\n"
      ],
      "metadata": {
        "colab": {
          "base_uri": "https://localhost:8080/"
        },
        "id": "fY4BwDjdKUBV",
        "outputId": "d787e4c5-ebd2-46a4-ef90-02f85ada3057"
      },
      "execution_count": null,
      "outputs": [
        {
          "output_type": "stream",
          "name": "stdout",
          "text": [
            "Etiam pretium ultricies semper. \n",
            "\n",
            "Morbi vel luctus metus. \n",
            "\n",
            "Curabitur mollis volutpat erat non dictum.\n",
            "\n",
            "Sed pellentesque, mi ornare condimentum varius, \n",
            "\n",
            "ipsum dui rutrum ante, sit amet elementum risus magna vel felis. \n",
            "\n",
            "Sed quis faucibus dui. \n",
            "\n",
            "Morbi commodo aliquam mauris. \n",
            "\n",
            "Quisque massa nulla, maximus non iaculis in,\n",
            "\n",
            "facilisis varius lorem. \n",
            "\n",
            "Mauris dapibusleo id eros porttitor, ut scelerisque enim pulvinar.\n",
            "Número de líneas en el archivo: 10\n"
          ]
        }
      ]
    },
    {
      "cell_type": "markdown",
      "source": [
        "# **List comprehensions**\n",
        "\n",
        "Utiliza list comprehensionspara construir las siguientes listas:\n",
        "1. Una lista con siete ceros.\n",
        "2. Una lista con los dígitos 0-9.\n",
        "3. Tomando como base la lista anterior, genera una lista que incremente en 1 el valor de cada elemento."
      ],
      "metadata": {
        "id": "OkWAja8pOGD_"
      }
    },
    {
      "cell_type": "code",
      "source": [
        "#1.\n",
        "lista = [0 for i in range(7)]\n",
        "print(lista)\n",
        "\n",
        "#2.\n",
        "lista2 = [i for i in range(10)]\n",
        "print(lista2)\n",
        "\n",
        "#3.\n",
        "lista3 = [i + 1 for i in lista2]\n",
        "print(lista3)"
      ],
      "metadata": {
        "colab": {
          "base_uri": "https://localhost:8080/"
        },
        "id": "O9o8Tk2vORBZ",
        "outputId": "5ac21c9e-0a9f-4910-c087-3607a6dd0588"
      },
      "execution_count": null,
      "outputs": [
        {
          "output_type": "stream",
          "name": "stdout",
          "text": [
            "[0, 0, 0, 0, 0, 0, 0]\n",
            "[0, 1, 2, 3, 4, 5, 6, 7, 8, 9]\n",
            "[1, 2, 3, 4, 5, 6, 7, 8, 9, 10]\n"
          ]
        }
      ]
    },
    {
      "cell_type": "markdown",
      "source": [
        "# Librerías\n",
        "## Numpy\n",
        "1. Generar un array con base en la lista mediciones=[0.8, 0.5, 0.3, 0.2, 0.0,0.9,0.8].\n",
        "2. Genera una matriz de numpy con 4 renglones y 3 columnas. Llénala con ceros."
      ],
      "metadata": {
        "id": "nSYOix8NO5FD"
      }
    },
    {
      "cell_type": "code",
      "source": [
        "import numpy as np\n",
        "#1\n",
        "mediciones=[0.8, 0.5, 0.3, 0.2, 0.0,0.9,0.8]\n",
        "matriz = np.array(mediciones)\n",
        "print(matriz)\n",
        "\n",
        "#2.\n",
        "matriz2 = np.zeros((4,3))\n",
        "print(matriz2)"
      ],
      "metadata": {
        "colab": {
          "base_uri": "https://localhost:8080/"
        },
        "id": "V-rgZwoiPG75",
        "outputId": "a6c506cc-5373-4ee5-de08-53a15a4d9f09"
      },
      "execution_count": null,
      "outputs": [
        {
          "output_type": "stream",
          "name": "stdout",
          "text": [
            "[0.8 0.5 0.3 0.2 0.  0.9 0.8]\n",
            "[[0. 0. 0.]\n",
            " [0. 0. 0.]\n",
            " [0. 0. 0.]\n",
            " [0. 0. 0.]]\n"
          ]
        }
      ]
    },
    {
      "cell_type": "markdown",
      "source": [
        "# Random\n",
        "1. Genera un número pseudo-aleatorioen el rango [0, 1]\n",
        "2. Generar un número entero pseudo-aleatorioen el rango [0, 20].\n",
        "3. Toma  como  base  la  lista r=[0,1,2,3,4,5,6,7,8,9,10,11,12,13,14,15] para  los siguientes ejercicios:\n",
        "\n",
        "  a.Genera una muestra aleatoria de r con cinco elementos. Despliega el resultado.\n",
        "  \n",
        "  b.Revuelve la lista r. Despliega el resultado."
      ],
      "metadata": {
        "id": "TBJ02uz0P1fu"
      }
    },
    {
      "cell_type": "code",
      "source": [
        "import random as rand\n",
        "#1.\n",
        "numeroAleatorio = rand.random()\n",
        "print(numeroAleatorio)\n",
        "\n",
        "#2.\n",
        "numeroAleatorio2 = rand.uniform(0,20)\n",
        "print(numeroAleatorio2)\n",
        "\n",
        "#3.\n",
        "r=[0,1,2,3,4,5,6,7,8,9,10,11,12,13,14,15]\n",
        "\n",
        "#a.\n",
        "muestra = []\n",
        "for i in range(5):\n",
        "  x = rand.choice(r)\n",
        "  while x in muestra:\n",
        "    x = rand.choice(r)\n",
        "  muestra.append(x)\n",
        "print(f\"La muestra es: {muestra}\")\n",
        "\n",
        "#b.\n",
        "rand.shuffle(muestra)\n",
        "print(f\"La muestra revuelta es: {muestra}\")"
      ],
      "metadata": {
        "colab": {
          "base_uri": "https://localhost:8080/"
        },
        "id": "Z202TH4yQHnR",
        "outputId": "9faeb50c-d4af-4754-c8e4-8c4ec163f4f9"
      },
      "execution_count": null,
      "outputs": [
        {
          "output_type": "stream",
          "name": "stdout",
          "text": [
            "0.28060178890839305\n",
            "2.4738085819661326\n",
            "La muestra es: [14, 6, 2, 1, 0]\n",
            "La muestra revuelta es: [14, 0, 1, 2, 6]\n"
          ]
        }
      ]
    },
    {
      "cell_type": "markdown",
      "source": [
        "# Pandas\n",
        "1. Genera un archivo .csv (comma separated values) con la información de la Tabla 4.\n",
        "![image.png](data:image/png;base64,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)\n",
        "\n",
        "2. Genera un dataframea partir del .csvdel ejercicio anterior.Nombra dfa este data frame.\n",
        "\n",
        "3. Despliega el dataframe.\n",
        "\n",
        "4. Seleccionalacolumna “Tarea 1” dedf.\n",
        "\n",
        "5. Obtén el promedio de cada columna de df.\n",
        "\n",
        "6. Genera  una  lista  de  tamaño  30 con  coordenadas  (x,y)—es  decir,  una  lista  anidada. Cada dimensión (tanto x  como y)  estará en el rango [-5,5]. Genera un dataframe con esta lista anidada. Apóyate con list comprehensions y la librería random.\n",
        "\n",
        "# Seaborny matplotlib\n",
        "\n",
        "1. Genera una gráfica de dispersión (scatter plot) con el dataframe coordenadas.\n",
        "\n",
        "2. Genera una gráfica de dispersión donde las coordenadas que contengan números negativos sean  coloreadas  en  rojo  y  con  forma  de triángulo.  Las  coordenadas  donde   ambas dimensiones  sean  positivas  irán  de  color  azul y  con  forma  de  círculo.Tip:  Puedes  utilizar varios dataframes, donde guardes respectivamente los puntos que irán en azul y los puntos que irán en rojo."
      ],
      "metadata": {
        "id": "G8Qnx7ELTd_Q"
      }
    },
    {
      "cell_type": "code",
      "source": [
        "from google.colab import drive\n",
        "import pandas as pd\n",
        "drive.mount('/content/drive')\n",
        "\n",
        "!ls /content/drive/MyDrive/IA_PISIS/\n",
        "df = pd.read_csv('/content/drive/MyDrive/IA_PISIS/tarea1_pandas.csv')\n",
        "df.head()"
      ],
      "metadata": {
        "colab": {
          "base_uri": "https://localhost:8080/",
          "height": 178
        },
        "id": "9UAsN3pKPYvS",
        "outputId": "be7120b7-ee65-4d49-8a4d-d1c765fc8e72"
      },
      "execution_count": null,
      "outputs": [
        {
          "output_type": "stream",
          "name": "stdout",
          "text": [
            "Drive already mounted at /content/drive; to attempt to forcibly remount, call drive.mount(\"/content/drive\", force_remount=True).\n",
            "tarea1_pandas.csv\n"
          ]
        },
        {
          "output_type": "execute_result",
          "data": {
            "text/plain": [
              "   Tarea 1  Tarea 2  Tarea 3\n",
              "0      100       80       50\n",
              "1      100      100       60\n",
              "2      100       90       50"
            ],
            "text/html": [
              "\n",
              "  <div id=\"df-0f985f2e-ed14-45fb-a705-4d235ad527ca\">\n",
              "    <div class=\"colab-df-container\">\n",
              "      <div>\n",
              "<style scoped>\n",
              "    .dataframe tbody tr th:only-of-type {\n",
              "        vertical-align: middle;\n",
              "    }\n",
              "\n",
              "    .dataframe tbody tr th {\n",
              "        vertical-align: top;\n",
              "    }\n",
              "\n",
              "    .dataframe thead th {\n",
              "        text-align: right;\n",
              "    }\n",
              "</style>\n",
              "<table border=\"1\" class=\"dataframe\">\n",
              "  <thead>\n",
              "    <tr style=\"text-align: right;\">\n",
              "      <th></th>\n",
              "      <th>Tarea 1</th>\n",
              "      <th>Tarea 2</th>\n",
              "      <th>Tarea 3</th>\n",
              "    </tr>\n",
              "  </thead>\n",
              "  <tbody>\n",
              "    <tr>\n",
              "      <th>0</th>\n",
              "      <td>100</td>\n",
              "      <td>80</td>\n",
              "      <td>50</td>\n",
              "    </tr>\n",
              "    <tr>\n",
              "      <th>1</th>\n",
              "      <td>100</td>\n",
              "      <td>100</td>\n",
              "      <td>60</td>\n",
              "    </tr>\n",
              "    <tr>\n",
              "      <th>2</th>\n",
              "      <td>100</td>\n",
              "      <td>90</td>\n",
              "      <td>50</td>\n",
              "    </tr>\n",
              "  </tbody>\n",
              "</table>\n",
              "</div>\n",
              "      <button class=\"colab-df-convert\" onclick=\"convertToInteractive('df-0f985f2e-ed14-45fb-a705-4d235ad527ca')\"\n",
              "              title=\"Convert this dataframe to an interactive table.\"\n",
              "              style=\"display:none;\">\n",
              "        \n",
              "  <svg xmlns=\"http://www.w3.org/2000/svg\" height=\"24px\"viewBox=\"0 0 24 24\"\n",
              "       width=\"24px\">\n",
              "    <path d=\"M0 0h24v24H0V0z\" fill=\"none\"/>\n",
              "    <path d=\"M18.56 5.44l.94 2.06.94-2.06 2.06-.94-2.06-.94-.94-2.06-.94 2.06-2.06.94zm-11 1L8.5 8.5l.94-2.06 2.06-.94-2.06-.94L8.5 2.5l-.94 2.06-2.06.94zm10 10l.94 2.06.94-2.06 2.06-.94-2.06-.94-.94-2.06-.94 2.06-2.06.94z\"/><path d=\"M17.41 7.96l-1.37-1.37c-.4-.4-.92-.59-1.43-.59-.52 0-1.04.2-1.43.59L10.3 9.45l-7.72 7.72c-.78.78-.78 2.05 0 2.83L4 21.41c.39.39.9.59 1.41.59.51 0 1.02-.2 1.41-.59l7.78-7.78 2.81-2.81c.8-.78.8-2.07 0-2.86zM5.41 20L4 18.59l7.72-7.72 1.47 1.35L5.41 20z\"/>\n",
              "  </svg>\n",
              "      </button>\n",
              "      \n",
              "  <style>\n",
              "    .colab-df-container {\n",
              "      display:flex;\n",
              "      flex-wrap:wrap;\n",
              "      gap: 12px;\n",
              "    }\n",
              "\n",
              "    .colab-df-convert {\n",
              "      background-color: #E8F0FE;\n",
              "      border: none;\n",
              "      border-radius: 50%;\n",
              "      cursor: pointer;\n",
              "      display: none;\n",
              "      fill: #1967D2;\n",
              "      height: 32px;\n",
              "      padding: 0 0 0 0;\n",
              "      width: 32px;\n",
              "    }\n",
              "\n",
              "    .colab-df-convert:hover {\n",
              "      background-color: #E2EBFA;\n",
              "      box-shadow: 0px 1px 2px rgba(60, 64, 67, 0.3), 0px 1px 3px 1px rgba(60, 64, 67, 0.15);\n",
              "      fill: #174EA6;\n",
              "    }\n",
              "\n",
              "    [theme=dark] .colab-df-convert {\n",
              "      background-color: #3B4455;\n",
              "      fill: #D2E3FC;\n",
              "    }\n",
              "\n",
              "    [theme=dark] .colab-df-convert:hover {\n",
              "      background-color: #434B5C;\n",
              "      box-shadow: 0px 1px 3px 1px rgba(0, 0, 0, 0.15);\n",
              "      filter: drop-shadow(0px 1px 2px rgba(0, 0, 0, 0.3));\n",
              "      fill: #FFFFFF;\n",
              "    }\n",
              "  </style>\n",
              "\n",
              "      <script>\n",
              "        const buttonEl =\n",
              "          document.querySelector('#df-0f985f2e-ed14-45fb-a705-4d235ad527ca button.colab-df-convert');\n",
              "        buttonEl.style.display =\n",
              "          google.colab.kernel.accessAllowed ? 'block' : 'none';\n",
              "\n",
              "        async function convertToInteractive(key) {\n",
              "          const element = document.querySelector('#df-0f985f2e-ed14-45fb-a705-4d235ad527ca');\n",
              "          const dataTable =\n",
              "            await google.colab.kernel.invokeFunction('convertToInteractive',\n",
              "                                                     [key], {});\n",
              "          if (!dataTable) return;\n",
              "\n",
              "          const docLinkHtml = 'Like what you see? Visit the ' +\n",
              "            '<a target=\"_blank\" href=https://colab.research.google.com/notebooks/data_table.ipynb>data table notebook</a>'\n",
              "            + ' to learn more about interactive tables.';\n",
              "          element.innerHTML = '';\n",
              "          dataTable['output_type'] = 'display_data';\n",
              "          await google.colab.output.renderOutput(dataTable, element);\n",
              "          const docLink = document.createElement('div');\n",
              "          docLink.innerHTML = docLinkHtml;\n",
              "          element.appendChild(docLink);\n",
              "        }\n",
              "      </script>\n",
              "    </div>\n",
              "  </div>\n",
              "  "
            ]
          },
          "metadata": {},
          "execution_count": 77
        }
      ]
    },
    {
      "cell_type": "code",
      "source": [
        "from google.colab import drive\n",
        "drive.mount('/content/drive')"
      ],
      "metadata": {
        "colab": {
          "base_uri": "https://localhost:8080/"
        },
        "id": "Pyo2KIDBdsne",
        "outputId": "775f1c85-d3c6-492f-fba3-3e8ffecd639b"
      },
      "execution_count": null,
      "outputs": [
        {
          "output_type": "stream",
          "name": "stdout",
          "text": [
            "Mounted at /content/drive\n"
          ]
        }
      ]
    },
    {
      "cell_type": "code",
      "source": [
        "lista = [[rand.uniform(-5,5),rand.uniform(-5,5)] for i in range(30)]\n",
        "df2 = pd.DataFrame(lista,columns = [\"Eje x\",\"Eje y\"])\n",
        "sns.scatterplot(data = df2, x = \"Eje x\", y = \"Eje y\")\n",
        "\n",
        "plt.show()\n"
      ],
      "metadata": {
        "colab": {
          "base_uri": "https://localhost:8080/",
          "height": 279
        },
        "id": "v3OlEYMCSUxS",
        "outputId": "a7648c2c-48b0-4868-c0b4-17a6f528edd6"
      },
      "execution_count": null,
      "outputs": [
        {
          "output_type": "display_data",
          "data": {
            "text/plain": [
              "<Figure size 432x288 with 1 Axes>"
            ],
            "image/png": "[encoded data removed]"
          },
          "metadata": {
            "needs_background": "light"
          }
        }
      ]
    },
    {
      "cell_type": "code",
      "source": [
        "import pandas as pd\n",
        "import random as rand\n",
        "import matplotlib.pyplot as plt\n",
        "import seaborn as sns\n",
        "#1.\n",
        "\n",
        "Tarea1 = [100,80,50]\n",
        "Tarea2 = [80,100,90]\n",
        "Tarea3 = [50,60,50]\n",
        "\n",
        "Tabla4 = pd.DataFrame()\n",
        "Tabla4[\"Tarea 1\"] = Tarea1\n",
        "Tabla4[\"Tarea 2\"] = Tarea2\n",
        "Tabla4[\"Tarea 3\"] = Tarea3\n",
        "\n",
        "Tabla4.to_csv(\"Tabla4IA.csv\", index = False)\n",
        "\n",
        "#2.\n",
        "\n",
        "df = pd.read_csv(\"Tabla4IA.csv\")\n",
        "\n",
        "#3.\n",
        "print(df)\n",
        "\n",
        "#4.\n",
        "tarea1 = df[\"Tarea 1\"]\n",
        "print(tarea1)\n",
        "\n",
        "#5.\n",
        "promedios = df.median()\n",
        "print(f\"Promedio por columnas: \")\n",
        "print(promedios)\n",
        "\n",
        "#6.\n",
        "lista = [[rand.uniform(-5,5),rand.uniform(-5,5)] for i in range(30)]\n",
        "df2 = pd.DataFrame(lista,columns = [\"Eje x\",\"Eje y\"])\n",
        "\n",
        "#7.\n",
        "df2.head(3)\n",
        "\n",
        "#=================Seaborn y matplitlib\n",
        "#1.\n",
        "sns.scatterplot(data = df2, x = \"Eje x\", y = \"Eje y\")\n",
        "\n",
        "plt.show()\n",
        "\n",
        "\n",
        "\n"
      ],
      "metadata": {
        "id": "gSkLx36gVpAA",
        "colab": {
          "base_uri": "https://localhost:8080/",
          "height": 510
        },
        "outputId": "ba903675-3208-4fce-b122-7e6fe4b7c31f"
      },
      "execution_count": null,
      "outputs": [
        {
          "output_type": "stream",
          "name": "stdout",
          "text": [
            "   Tarea 1  Tarea 2  Tarea 3\n",
            "0      100       80       50\n",
            "1       80      100       60\n",
            "2       50       90       50\n",
            "0    100\n",
            "1     80\n",
            "2     50\n",
            "Name: Tarea 1, dtype: int64\n",
            "Promedio por columnas: \n",
            "Tarea 1    80.0\n",
            "Tarea 2    90.0\n",
            "Tarea 3    50.0\n",
            "dtype: float64\n"
          ]
        },
        {
          "output_type": "display_data",
          "data": {
            "text/plain": [
              "<Figure size 432x288 with 1 Axes>"
            ],
            "image/png": "[encoded data removed]"
          },
          "metadata": {
            "needs_background": "light"
          }
        }
      ]
    },
    {
      "cell_type": "code",
      "source": [
        "lista = [[rand.uniform(-5,5),rand.uniform(-5,5)] for i in range(30)]\n",
        "#2.\n",
        "negativos = []\n",
        "positivos = []\n",
        "for coordenada in lista:\n",
        "  if coordenada[0] < 0 or coordenada[1] < 0 :\n",
        "    negativos.append(coordenada)\n",
        "  elif coordenada[0] >= 0 and coordenada[1] >= 0:\n",
        "    positivos.append(coordenada)\n",
        "\n",
        "dfPositivos = pd.DataFrame(positivos,columns = [\"Eje x\",\"Eje y\"])\n",
        "dfNegativos = pd.DataFrame(negativos,columns = [\"Eje x\",\"Eje y\"])\n",
        "\n",
        "sns.scatterplot(data = dfPositivos, x = \"Eje x\", y = \"Eje y\", marker = \"o\",color=\"blue\",label =\"Positivos\")\n",
        "sns.scatterplot(data = dfNegativos, x = \"Eje x\", y = \"Eje y\", marker = \"^\",color=\"red\", label = \"Negativos\" )\n",
        "plt.axhline(0, color=\"black\", linestyle = \"--\")\n",
        "plt.axvline(0,color=\"black\",linestyle = \"--\")\n",
        "plt.show()\n",
        "\n"
      ],
      "metadata": {
        "colab": {
          "base_uri": "https://localhost:8080/",
          "height": 279
        },
        "id": "CTzzNVlXhvql",
        "outputId": "e5033eba-e36c-4073-afb9-992774876f93"
      },
      "execution_count": null,
      "outputs": [
        {
          "output_type": "display_data",
          "data": {
            "text/plain": [
              "<Figure size 432x288 with 1 Axes>"
            ],
            "image/png": "[encoded data removed]"
          },
          "metadata": {
            "needs_background": "light"
          }
        }
      ]
    }
  ]
}